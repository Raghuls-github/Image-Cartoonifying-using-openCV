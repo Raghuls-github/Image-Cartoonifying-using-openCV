{
 "cells": [
  {
   "cell_type": "markdown",
   "id": "6e228e7a-d0b6-496f-92df-3b24c6c9e0c0",
   "metadata": {},
   "source": [
    "# <center> Cartoonifying Image </center>"
   ]
  },
  {
   "cell_type": "markdown",
   "id": "6f28b6a8-9646-4912-ad5d-792510a167f0",
   "metadata": {},
   "source": [
    "This image cartoonidying process has various steps.\n",
    "\n",
    "- Step 1: Converts the original image into grayscale images using BGR2GRAY Flag.\n",
    "    - For every transformation the image is being resized.\n",
    "    \n",
    "- Step 2: The grayscale image is smoothend using the medianblur() function. In this method the center pixel is assigned a mean value and other fall under the kernal.\n",
    "\n",
    "- Step 3: Using the adptive thresholding technique the edges of the images are retrived. \n",
    "    - (The threshold value is the mean of the neighborhood pixel value area minus the constant 'C')\n",
    "    \n",
    "\n",
    "\n",
    "- Step 4: Now the image is lightend and masked with the retrived edges.\n",
    "\n",
    "- Step 5: Finally, we get the cartoonified image."
   ]
  },
  {
   "cell_type": "markdown",
   "id": "3b834f9b-c705-4aaf-bdcd-a0565ec4f1cb",
   "metadata": {},
   "source": [
    "#### Installing opencv & pillow"
   ]
  },
  {
   "cell_type": "code",
   "execution_count": 1,
   "id": "f2c2f177-53c3-4b5b-a5fa-69db834ca175",
   "metadata": {},
   "outputs": [
    {
     "name": "stdout",
     "output_type": "stream",
     "text": [
      "Requirement already satisfied: opencv-python in /Users/raghul/opt/anaconda3/lib/python3.8/site-packages (4.5.4.60)\n",
      "Requirement already satisfied: numpy>=1.17.3 in /Users/raghul/opt/anaconda3/lib/python3.8/site-packages (from opencv-python) (1.21.4)\n",
      "Note: you may need to restart the kernel to use updated packages.\n"
     ]
    }
   ],
   "source": [
    "pip install opencv-python"
   ]
  },
  {
   "cell_type": "code",
   "execution_count": 2,
   "id": "53b2579b-59cb-46d4-a64f-1a4b312fa5f8",
   "metadata": {},
   "outputs": [
    {
     "name": "stdout",
     "output_type": "stream",
     "text": [
      "Requirement already satisfied: pillow in /Users/raghul/opt/anaconda3/lib/python3.8/site-packages (8.2.0)\n",
      "Note: you may need to restart the kernel to use updated packages.\n"
     ]
    }
   ],
   "source": [
    "pip install pillow"
   ]
  },
  {
   "cell_type": "markdown",
   "id": "cbed352d-8e20-4cf9-b940-017cb510f67e",
   "metadata": {},
   "source": [
    "#### Importing the required packages and libraries"
   ]
  },
  {
   "cell_type": "code",
   "execution_count": 3,
   "id": "39d4e4fe-5acb-4ae3-8480-7c76c20fcb51",
   "metadata": {},
   "outputs": [],
   "source": [
    "import cv2"
   ]
  },
  {
   "cell_type": "code",
   "execution_count": 4,
   "id": "7c8c2bd6-3918-447e-9d82-601bcccd00a0",
   "metadata": {},
   "outputs": [],
   "source": [
    "import easygui\n",
    "import numpy as np\n",
    "import imageio\n",
    "import sys\n",
    "import matplotlib.pyplot as plt\n",
    "import tkinter as tk"
   ]
  },
  {
   "cell_type": "code",
   "execution_count": 5,
   "id": "34344698-a2c2-49af-a25a-e74eb864901d",
   "metadata": {},
   "outputs": [],
   "source": [
    "from tkinter import *"
   ]
  },
  {
   "cell_type": "code",
   "execution_count": 6,
   "id": "391bea10-efc8-4b53-95c4-ba49d9332cd2",
   "metadata": {},
   "outputs": [],
   "source": [
    "from tkinter.filedialog import askopenfilename\n",
    "from tkinter.messagebox import showerror"
   ]
  },
  {
   "cell_type": "code",
   "execution_count": 7,
   "id": "c01a83e1-4cf8-4a8f-adc5-b7ce38210ca6",
   "metadata": {},
   "outputs": [],
   "source": [
    "from PIL import Image\n",
    "import datetime"
   ]
  },
  {
   "cell_type": "code",
   "execution_count": 8,
   "id": "c987282c-63fa-4c7c-8c2f-71d92edeb5a6",
   "metadata": {},
   "outputs": [
    {
     "name": "stderr",
     "output_type": "stream",
     "text": [
      "Exception in Tkinter callback\n",
      "Traceback (most recent call last):\n",
      "  File \"/Users/raghul/opt/anaconda3/lib/python3.8/tkinter/__init__.py\", line 1892, in __call__\n",
      "    return self.func(*args)\n",
      "  File \"<ipython-input-8-ff032fa048ec>\", line 3, in upload\n",
      "    cartoonify(ImagePath)\n",
      "  File \"<ipython-input-8-ff032fa048ec>\", line 7, in cartoonify\n",
      "    originalmage = cv2.cvtColor(originalmage, cv2.COLOR_BGR2RGB)\n",
      "cv2.error: OpenCV(4.5.4) /Users/runner/work/opencv-python/opencv-python/opencv/modules/imgproc/src/color.cpp:182: error: (-215:Assertion failed) !_src.empty() in function 'cvtColor'\n",
      "\n"
     ]
    }
   ],
   "source": [
    "def upload ():\n",
    "    ImagePath = easygui.fileopenbox()\n",
    "    cartoonify(ImagePath)\n",
    "    \n",
    "def cartoonify(ImagePath):\n",
    "    originalmage = cv2.imread(ImagePath)\n",
    "    originalmage = cv2.cvtColor(originalmage, cv2.COLOR_BGR2RGB)\n",
    "    #print(image)\n",
    "    \n",
    "    if originalmage is None:\n",
    "        print (\"Image not found. Kindly choose appropriate file\")\n",
    "        sys.exit()\n",
    "\n",
    "#Converting the image to grayscale\n",
    "    grayScaleImage = cv2.cvtColor(originalmage,cv2.COLOR_BGR2RGB)\n",
    "    ReSized2 = cv2.resize(grayScaleImage, (960,540))\n",
    "    plt.imshow (ReSized2, cmap = 'gray')\n",
    "\n",
    "#Applying blur (MEDIAN) to smoothen the image\n",
    "    smoothGrayScale = cv2.medianBlur(grayScaleImage, 5)\n",
    "    ReSized3 = cv2.resize(smoothGrayScale, (960,540))\n",
    "    plt.imshow(ReSized3, cmap = 'gray')\n",
    "    \n",
    "# Retieving the edges for cartoon effect (Threshold techniques)\n",
    "    getEdge = cv2.adaptiveThreshold(smoothGrayScale, 255, cv2.ADAPTIVE_THRESH_MEAN_C, cv2.THRESH_BINARY, 9, 9)\n",
    "    ReSized4 = cv2.resize(getEdge, (960,540))\n",
    "    plt.imshow(ReSized4, cmap = 'gray')\n",
    "    \n",
    "#Applying the bilateral filter to remove noise and keep the edges sharp as per the requirement\n",
    "    colorImage = cv2.bilateralFilter(originalmage, 9, 300, 300)\n",
    "    ReSized5 = cv2.resize(colorImage, (960, 540))\n",
    "    plt.imshow (ReSized5, cmap = 'gray')\n",
    "    \n",
    "# Masking the edged image\n",
    "    cartoonImage = cv2.bitwise_and(colorImage, colorImage, mask = getEdge)\n",
    "    plt.imshow(ReSized6, cmap = 'gray')\n",
    "    \n",
    "# Plotting the whole transition process\n",
    "    images = [ReSized1, ReSized2, ReSized3, ReSized4, ReSized5, ReSized6]\n",
    "    fig, axes = plt.subplots(3,2, figsize = (8,8), subplot_kw={'xticks':[], 'yticks':[]}, gridspec_kw=dict(hspace=0.1, wspace=0.1))\n",
    "    for i, ax in enumerate(axes.flat):\n",
    "        ax.imshow(images[i], cmap = 'gray')\n",
    "        plt.show()\n",
    "        \n",
    "def save(ReSized6, ImagePath):\n",
    "    newName = \"catoonified_Image\"\n",
    "    path1 = os.path.dirname(ImagePath)\n",
    "    extension = os.path.splitext(ImagePath)[1]\n",
    "    path = os.path.join(path1, newName+extension)\n",
    "    cv2.imwrite(path, cv2.cvtColor(ReSized6, cv2.COLOR_RGB2BGR))\n",
    "    tk.messagebox.showinfo(title=None, message=I)\n",
    "    \n",
    "top=tk.Tk()\n",
    "top.geometry('400x400')\n",
    "top.title('Cartoonify Your Image !')\n",
    "top.configure(background='white')\n",
    "label=Label(top,background='#CDCDCD', font=('calibri',20,'bold'))\n",
    "\n",
    "upload=Button(top,text=\"Cartoonify an Image\",command=upload,padx=10,pady=5)\n",
    "upload.configure(background='#364156', foreground='white',font=('calibri',10,'bold'))\n",
    "upload.pack(side=TOP,pady=50)\n",
    "\n",
    "save1=Button(top,text=\"Save cartoon image\",command=lambda: save(ImagePath, ReSized6),padx=30,pady=5)\n",
    "save1.configure(background='#364156', foreground='white',font=('calibri',10,'bold'))\n",
    "save1.pack(side=TOP,pady=50)\n",
    "\n",
    "top.mainloop()"
   ]
  },
  {
   "cell_type": "code",
   "execution_count": null,
   "id": "412051bf-4d01-47af-83f5-6ce9e083a99d",
   "metadata": {},
   "outputs": [],
   "source": []
  }
 ],
 "metadata": {
  "kernelspec": {
   "display_name": "Python 3",
   "language": "python",
   "name": "python3"
  },
  "language_info": {
   "codemirror_mode": {
    "name": "ipython",
    "version": 3
   },
   "file_extension": ".py",
   "mimetype": "text/x-python",
   "name": "python",
   "nbconvert_exporter": "python",
   "pygments_lexer": "ipython3",
   "version": "3.8.8"
  }
 },
 "nbformat": 4,
 "nbformat_minor": 5
}
